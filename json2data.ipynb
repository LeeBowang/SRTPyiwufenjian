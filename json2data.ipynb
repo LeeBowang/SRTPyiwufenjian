{
 "cells": [
  {
   "cell_type": "code",
   "execution_count": 1,
   "metadata": {},
   "outputs": [],
   "source": [
    "# -*- coding: utf-8 -*-\n",
    "import json\n",
    "import os\n",
    "import pandas as pd\n",
    "import cv2\n",
    "from PIL import Image\n",
    "from shutil import copyfile\n",
    "\n",
    "base_path = '/home/wzx/wzx_frcnn/Dataset/Open Images Dataset v5 (Bounding Boxes)'\n",
    "json_path = os.path.join(base_path,'jimu')"
   ]
  },
  {
   "cell_type": "code",
   "execution_count": 2,
   "metadata": {},
   "outputs": [],
   "source": [
    "# Save images to train and test directory\n",
    "#定义train 和 test 的目录\n",
    "train_path = os.path.join(base_path, 'train')\n",
    "test_path = os.path.join(base_path, 'test')"
   ]
  },
  {
   "cell_type": "code",
   "execution_count": 3,
   "metadata": {},
   "outputs": [],
   "source": [
    "def newfile(path):\n",
    "    # 判断路径是否存在\n",
    "    isExists=os.path.exists(path)\n",
    "    # 不存在\n",
    "    if not isExists:\n",
    "    # 创建目录操作函数\n",
    "        os.mkdir(path)\n",
    "        print(path+' 创建成功')\n",
    "    #存在\n",
    "    else:\n",
    "        print(path+' 目录已存在')"
   ]
  },
  {
   "cell_type": "code",
   "execution_count": 4,
   "metadata": {},
   "outputs": [
    {
     "name": "stdout",
     "output_type": "stream",
     "text": [
      "/home/wzx/wzx_frcnn/Dataset/Open Images Dataset v5 (Bounding Boxes)/train 创建成功\n",
      "/home/wzx/wzx_frcnn/Dataset/Open Images Dataset v5 (Bounding Boxes)/test 创建成功\n",
      "rs-save-to-disk-output-Color8.png\n",
      "number of training images:  30\n",
      "number of test images:  0\n"
     ]
    }
   ],
   "source": [
    "# 调用函数\n",
    "newfile(train_path)\n",
    "newfile(test_path)  \n",
    "# Copy train images to train directory\n",
    "train_imgs = os.listdir(os.path.join(json_path, 'train'))\n",
    "train_imgs = [f for f in train_imgs if f.endswith('g')]\n",
    "print(train_imgs[2])\n",
    "\n",
    "for j in range(len(train_imgs)):\n",
    "    original_path = os.path.join(os.path.join(json_path,'train'), train_imgs[j])\n",
    "    new_path = os.path.join(train_path,train_imgs[j])\n",
    "    copyfile(original_path, new_path)\n",
    "    \n",
    "# Copy test images to test directory\n",
    "'''    for j in range(len(test_imgs)):\n",
    "        original_path = os.path.join(os.path.join(base_path, classes[i]), test_imgs[j])\n",
    "        new_path = os.path.join(test_path, test_imgs[j])\n",
    "        copyfile(original_path, new_path)'''\n",
    "\n",
    "# print the number of train_imgs & test_imgs\n",
    "print('number of training images: ', len(os.listdir(train_path))) \n",
    "# subtract one because there is one hidden file named '.DS_Store'\n",
    "print('number of test images: ', len(os.listdir(test_path)))"
   ]
  },
  {
   "cell_type": "code",
   "execution_count": 5,
   "metadata": {},
   "outputs": [],
   "source": [
    "label_names = ['COL','CON','CUB','TRI']\n",
    "train_df = pd.DataFrame(columns=['FileName', 'XMin', 'XMax', 'YMin', 'YMax', 'ClassName'])\n",
    "for filename in os.listdir(os.path.join(json_path,'train')):\n",
    "    # 定义特征点\n",
    "    x1 ,y1 = 0, 0   # 框左上  x: 距左，y:距上\n",
    "    x2, y2 = 0, 0   # 框右下\n",
    "    mark_x1, mark_y1 = 0, 0    # 左上点\n",
    "    mark_x2, mark_y2 = 0, 0    # 右上点\n",
    "    mark_x3, mark_y3 = 0, 0    # 左下点\n",
    "    mark_x4, mark_y4 = 0, 0    # 右下点\n",
    "    if filename.endswith(\".json\"):\n",
    "        data = json.load(open(os.path.join(os.path.join(json_path,'train'),filename), 'r'))\n",
    "        img_name = data['imagePath'] # 拿到图像的名字\n",
    "\n",
    "        for obj in data['shapes']:\n",
    "            if obj['shape_type'] != \"rectangle\":\n",
    "                continue\n",
    "            if obj['label'] in label_names:   # label_name in classes\n",
    "                class_name = obj['label']\n",
    "                XMin = obj['points'][0][0]\n",
    "                YMin = obj['points'][0][1]\n",
    "                XMax = obj['points'][1][0]\n",
    "                YMax = obj['points'][1][1]\n",
    "        \n",
    "            #write into df\n",
    "            train_df = train_df.append({'FileName': img_name, \n",
    "                                        'XMin': XMin, \n",
    "                                        'XMax': XMax, \n",
    "                                        'YMin': YMin, \n",
    "                                        'YMax': YMax, \n",
    "                                        'ClassName': class_name}, \n",
    "                                       ignore_index=True)"
   ]
  },
  {
   "cell_type": "code",
   "execution_count": 6,
   "metadata": {},
   "outputs": [
    {
     "data": {
      "text/plain": [
       "\"\\n\\ntest_df = pd.DataFrame(columns=['FileName', 'XMin', 'XMax', 'YMin', 'YMax', 'ClassName'])\\n\\n# Find boxes in each image and put them in a dataframe\\ntest_imgs = os.listdir(test_path)\\ntest_imgs = [name for name in test_imgs if not name.startswith('.')]\\n\\nfor i in range(len(test_imgs)):\\n    sys.stdout.write('Parse test_imgs ' + str(i) + '; Number of boxes: ' + str(len(test_df)) + '\\r')\\n    sys.stdout.flush()\\n    img_name = test_imgs[i]\\n    img_id = img_name[0:16]\\n    tmp_df = annotations_bbox[annotations_bbox['ImageID']==img_id]\\n    for index, row in tmp_df.iterrows():\\n        labelName = row['LabelName']\\n        for i in range(len(label_names)):\\n            if labelName == label_names[i]:\\n                val_df = val_df.append({'FileName': img_name, \\n                                            'XMin': row['XMin'], \\n                                            'XMax': row['XMax'], \\n                                            'YMin': row['YMin'], \\n                                            'YMax': row['YMax'], \\n                                            'ClassName': classes[i]}, \\n                                           ignore_index=True)\\n\""
      ]
     },
     "execution_count": 6,
     "metadata": {},
     "output_type": "execute_result"
    }
   ],
   "source": [
    "'''\n",
    "\n",
    "test_df = pd.DataFrame(columns=['FileName', 'XMin', 'XMax', 'YMin', 'YMax', 'ClassName'])\n",
    "\n",
    "# Find boxes in each image and put them in a dataframe\n",
    "test_imgs = os.listdir(test_path)\n",
    "test_imgs = [name for name in test_imgs if not name.startswith('.')]\n",
    "\n",
    "for i in range(len(test_imgs)):\n",
    "    sys.stdout.write('Parse test_imgs ' + str(i) + '; Number of boxes: ' + str(len(test_df)) + '\\r')\n",
    "    sys.stdout.flush()\n",
    "    img_name = test_imgs[i]\n",
    "    img_id = img_name[0:16]\n",
    "    tmp_df = annotations_bbox[annotations_bbox['ImageID']==img_id]\n",
    "    for index, row in tmp_df.iterrows():\n",
    "        labelName = row['LabelName']\n",
    "        for i in range(len(label_names)):\n",
    "            if labelName == label_names[i]:\n",
    "                val_df = val_df.append({'FileName': img_name, \n",
    "                                            'XMin': row['XMin'], \n",
    "                                            'XMax': row['XMax'], \n",
    "                                            'YMin': row['YMin'], \n",
    "                                            'YMax': row['YMax'], \n",
    "                                            'ClassName': classes[i]}, \n",
    "                                           ignore_index=True)\n",
    "'''"
   ]
  },
  {
   "cell_type": "code",
   "execution_count": 7,
   "metadata": {},
   "outputs": [],
   "source": [
    "train_df.to_csv(os.path.join(base_path, 'train.csv'))\n",
    "# test_df.to_csv(os.path.join(base_path, 'test.csv'))"
   ]
  },
  {
   "cell_type": "code",
   "execution_count": 8,
   "metadata": {},
   "outputs": [
    {
     "name": "stdout",
     "output_type": "stream",
     "text": [
      "                             FileName        XMin        XMax        YMin  \\\n",
      "0  rs-save-to-disk-output-Color20.png  723.729730  789.945946  348.324324   \n",
      "1  rs-save-to-disk-output-Color20.png  677.783784  768.324324  476.702703   \n",
      "2  rs-save-to-disk-output-Color20.png  508.864865  614.270270  502.378378   \n",
      "3  rs-save-to-disk-output-Color20.png  575.081081  709.000000  675.351351   \n",
      "4  rs-save-to-disk-output-Color20.png  121.027027  206.000000  619.945946   \n",
      "\n",
      "         YMax ClassName  \n",
      "0  410.486486       CUB  \n",
      "1  565.891892       CON  \n",
      "2  596.972973       COL  \n",
      "3  719.000000       CUB  \n",
      "4  719.000000       COL  \n"
     ]
    }
   ],
   "source": [
    "print(train_df.head())\n",
    "train_df = pd.read_csv(os.path.join(base_path, 'train.csv'))\n",
    "\n",
    "# For training\n",
    "f= open(base_path + \"/annotation.txt\",\"w+\")\n",
    "for idx, row in train_df.iterrows():\n",
    "#     sys.stdout.write(str(idx) + '\\r')\n",
    "#     sys.stdout.flush()\n",
    "    img = cv2.imread((base_path + '/train/' + row['FileName']))\n",
    "    height, width = img.shape[:2]\n",
    "    x1 = int(row['XMin'] * width)\n",
    "    x2 = int(row['XMax'] * width)\n",
    "    y1 = int(row['YMin'] * height)\n",
    "    y2 = int(row['YMax'] * height)\n",
    "    \n",
    "    google_colab_file_path = '/home/wzx/wzx_frcnn/Dataset/Open Images Dataset v5 (Bounding Boxes)/train'\n",
    "    fileName = os.path.join(google_colab_file_path, row['FileName'])\n",
    "    className = row['ClassName']\n",
    "    f.write(fileName + ',' + str(x1) + ',' + str(y1) + ',' + str(x2) + ',' + str(y2) + ',' + className + '\\n')\n",
    "f.close()"
   ]
  }
 ],
 "metadata": {
  "kernelspec": {
   "display_name": "Python 3",
   "language": "python",
   "name": "python3"
  },
  "language_info": {
   "codemirror_mode": {
    "name": "ipython",
    "version": 3
   },
   "file_extension": ".py",
   "mimetype": "text/x-python",
   "name": "python",
   "nbconvert_exporter": "python",
   "pygments_lexer": "ipython3",
   "version": "3.7.4"
  }
 },
 "nbformat": 4,
 "nbformat_minor": 2
}
